{
 "cells": [
  {
   "cell_type": "code",
   "execution_count": 1,
   "id": "4ebeb064",
   "metadata": {
    "tags": []
   },
   "outputs": [
    {
     "name": "stderr",
     "output_type": "stream",
     "text": [
      "\u001b[32m\u001b[1mPrecompiling\u001b[22m\u001b[39m QuantumStates\n",
      "\u001b[36m\u001b[1m        Info\u001b[22m\u001b[39m Given QuantumStates was explicitly requested, output will be shown live \u001b[0K\n",
      "\u001b[0KWARNING: Method definition TDM(Any, Any) in module QuantumStates at C:\\Google Drive\\github\\QuantumStates\\src\\HundsCaseB_LinearMolecule.jl:327 overwritten at C:\\Google Drive\\github\\QuantumStates\\src\\HundsCaseB_LinearMolecule.jl:328.\n",
      "\u001b[0KERROR: Method overwriting is not permitted during Module precompilation. Use `__precompile__(false)` to opt-out of precompilation.\n",
      "\u001b[33m  ? \u001b[39mQuantumStates\n",
      "\u001b[36m\u001b[1m[ \u001b[22m\u001b[39m\u001b[36m\u001b[1mInfo: \u001b[22m\u001b[39mPrecompiling QuantumStates [17f0441f-15e0-42ae-a101-302633ff8f0f]\n",
      "WARNING: Method definition TDM(Any, Any) in module QuantumStates at C:\\Google Drive\\github\\QuantumStates\\src\\HundsCaseB_LinearMolecule.jl:327 overwritten at C:\\Google Drive\\github\\QuantumStates\\src\\HundsCaseB_LinearMolecule.jl:328.\n",
      "ERROR: Method overwriting is not permitted during Module precompilation. Use `__precompile__(false)` to opt-out of precompilation.\n",
      "\u001b[36m\u001b[1m[ \u001b[22m\u001b[39m\u001b[36m\u001b[1mInfo: \u001b[22m\u001b[39mSkipping precompilation since __precompile__(false). Importing QuantumStates [17f0441f-15e0-42ae-a101-302633ff8f0f].\n"
     ]
    }
   ],
   "source": [
    "using QuantumStates, UnitsToValue"
   ]
  },
  {
   "cell_type": "code",
   "execution_count": 2,
   "id": "83847b16",
   "metadata": {
    "tags": []
   },
   "outputs": [],
   "source": [
    "H_operator = :(\n",
    "    T * DiagonalOperator +\n",
    "    BX * Rotation + \n",
    "    DX * RotationDistortion + \n",
    "    γX * SpinRotation + \n",
    "    bFX * Hyperfine_IS + \n",
    "    cX * (Hyperfine_Dipolar/3) +\n",
    "    qX * ℓDoubling\n",
    ");"
   ]
  },
  {
   "cell_type": "code",
   "execution_count": 3,
   "id": "ab3934ea",
   "metadata": {
    "editable": true,
    "slideshow": {
     "slide_type": ""
    },
    "tags": []
   },
   "outputs": [],
   "source": [
    "parameters = @params begin\n",
    "    T = c / 555e-9 + 353 * c * 1e2 # we'll just take the energy to be 3 × 3847 cm⁻¹\n",
    "    BX = 0.333458 * c * 1e2\n",
    "    DX = 0.3930e-6 * c * 1e2\n",
    "    γX = 0.001184 * c * 1e2\n",
    "    qX = -0.7181e-3 * c * 1e2\n",
    "    bFX = 2.602 * 1e6\n",
    "    cX = 2.053 * 1e6\n",
    "end;"
   ]
  },
  {
   "cell_type": "code",
   "execution_count": 4,
   "id": "2802412d",
   "metadata": {
    "tags": []
   },
   "outputs": [],
   "source": [
    "QN_bounds = (\n",
    "    label = \"B\",\n",
    "    v_1 = 0,\n",
    "    v_2 = 1,\n",
    "    v_3 = 0,\n",
    "    S = 1/2, \n",
    "    I = 1/2, \n",
    "    Λ = 0,\n",
    "    ℓ = (-1,1),\n",
    "    K = (-1,1),\n",
    "    N = 1:5\n",
    ")\n",
    "basis = enumerate_states(HundsCaseB_LinearMolecule, QN_bounds)\n",
    ";"
   ]
  },
  {
   "cell_type": "code",
   "execution_count": 5,
   "id": "241c562c",
   "metadata": {
    "tags": []
   },
   "outputs": [
    {
     "name": "stdout",
     "output_type": "stream",
     "text": [
      "  1.691290 seconds (5.85 M allocations: 322.229 MiB, 4.22% gc time, 86.77% compilation time)\n",
      "  0.720598 seconds (4.23 M allocations: 192.218 MiB, 2.59% gc time, 73.15% compilation time)\n",
      "  0.284031 seconds (216.78 k allocations: 18.116 MiB, 3.56% gc time, 68.82% compilation time)\n"
     ]
    }
   ],
   "source": [
    "CaOH_B010 = @time Hamiltonian(basis=basis, operator=H_operator, parameters=parameters)\n",
    "@time full_evaluate!(CaOH_B010)\n",
    "@time solve!(CaOH_B010)\n",
    ";"
   ]
  },
  {
   "cell_type": "code",
   "execution_count": 6,
   "id": "19b0a5a1",
   "metadata": {
    "tags": []
   },
   "outputs": [
    {
     "name": "stdout",
     "output_type": "stream",
     "text": [
      "  0.176321 seconds (480.51 k allocations: 31.323 MiB, 91.19% compilation time)\n"
     ]
    }
   ],
   "source": [
    "@time save_to_file(CaOH_B010, \"CaOH_B010\", \"\")"
   ]
  },
  {
   "cell_type": "code",
   "execution_count": null,
   "id": "6020efb6-4c06-468c-8137-ce184e0e4e05",
   "metadata": {
    "editable": true,
    "slideshow": {
     "slide_type": ""
    },
    "tags": []
   },
   "outputs": [],
   "source": []
  }
 ],
 "metadata": {
  "kernelspec": {
   "display_name": "Julia 1.10.5",
   "language": "julia",
   "name": "julia-1.10"
  },
  "language_info": {
   "file_extension": ".jl",
   "mimetype": "application/julia",
   "name": "julia",
   "version": "1.10.5"
  }
 },
 "nbformat": 4,
 "nbformat_minor": 5
}

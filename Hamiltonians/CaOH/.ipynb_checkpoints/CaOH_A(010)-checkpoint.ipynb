{
 "cells": [
  {
   "cell_type": "code",
   "execution_count": 1,
   "id": "342d0983-7400-47be-b9e4-b4356ef06db6",
   "metadata": {
    "editable": true,
    "slideshow": {
     "slide_type": ""
    },
    "tags": []
   },
   "outputs": [
    {
     "name": "stderr",
     "output_type": "stream",
     "text": [
      "\u001b[32m\u001b[1mPrecompiling\u001b[22m\u001b[39m QuantumStates\n",
      "\u001b[36m\u001b[1m        Info\u001b[22m\u001b[39m Given QuantumStates was explicitly requested, output will be shown live \u001b[0K\n",
      "\u001b[0KWARNING: Method definition TDM(Any, Any) in module QuantumStates at C:\\Google Drive\\github\\QuantumStates\\src\\HundsCaseB_LinearMolecule.jl:327 overwritten at C:\\Google Drive\\github\\QuantumStates\\src\\HundsCaseB_LinearMolecule.jl:328.\n",
      "\u001b[0KERROR: Method overwriting is not permitted during Module precompilation. Use `__precompile__(false)` to opt-out of precompilation.\n",
      "\u001b[33m  ? \u001b[39mQuantumStates\n",
      "\u001b[36m\u001b[1m[ \u001b[22m\u001b[39m\u001b[36m\u001b[1mInfo: \u001b[22m\u001b[39mPrecompiling QuantumStates [17f0441f-15e0-42ae-a101-302633ff8f0f]\n",
      "WARNING: Method definition TDM(Any, Any) in module QuantumStates at C:\\Google Drive\\github\\QuantumStates\\src\\HundsCaseB_LinearMolecule.jl:327 overwritten at C:\\Google Drive\\github\\QuantumStates\\src\\HundsCaseB_LinearMolecule.jl:328.\n",
      "ERROR: Method overwriting is not permitted during Module precompilation. Use `__precompile__(false)` to opt-out of precompilation.\n",
      "\u001b[36m\u001b[1m[ \u001b[22m\u001b[39m\u001b[36m\u001b[1mInfo: \u001b[22m\u001b[39mSkipping precompilation since __precompile__(false). Importing QuantumStates [17f0441f-15e0-42ae-a101-302633ff8f0f].\n"
     ]
    }
   ],
   "source": [
    "using QuantumStates\n",
    "using UnitsToValue"
   ]
  },
  {
   "cell_type": "code",
   "execution_count": 8,
   "id": "be2b539b-253e-49b7-a046-a0801c2d94c3",
   "metadata": {},
   "outputs": [],
   "source": [
    "# Define the operator for the Hamiltonian\n",
    "H_operator = :(\n",
    "    T * DiagonalOperator +\n",
    "    B_Σ * Rotation_Σ +\n",
    "    B_Δ * Rotation_Δ +\n",
    "    A_v * SpinOrbit + \n",
    "    q_e * (ΛDoubling_q + 2ΛDoubling_p2q) +\n",
    "    p_e * ΛDoubling_p2q +\n",
    "    q_v * ℓDoubling + \n",
    "    ϵω2 * (RennerTeller/2)\n",
    "    # b00_A * Hyperfine_IF\n",
    "    # b00_A * Hyperfine_IL\n",
    "    # b00_A * (Hyperfine_IF - Hyperfine_IL)\n",
    ");"
   ]
  },
  {
   "cell_type": "code",
   "execution_count": 9,
   "id": "7584ce00-050d-418a-8bd6-2ab64bb677f1",
   "metadata": {
    "editable": true,
    "slideshow": {
     "slide_type": ""
    },
    "tags": []
   },
   "outputs": [],
   "source": [
    "# Spectroscopic parameters for the A(010) state from Li & Coxon (1995)\n",
    "# Note that parameters are converted from cm⁻¹ to Hz\n",
    "parameters = @params begin\n",
    "    T = 16360.389 * c * 1e2\n",
    "    B_Σ = 0.3402123 * c * 1e2\n",
    "    B_Δ = 0.3402609 * c * 1e2\n",
    "    A_v = 67.0951 * c * 1e2\n",
    "    q_e = -0.3072e-3 * c * 1e2\n",
    "    p_e = -0.04472 * c * 1e2\n",
    "    q_v = -0.6978e-3 * c * 1e2\n",
    "    ϵω2 = -36.2634 * c * 1e2\n",
    "    b00_A = 1e6\n",
    "end;"
   ]
  },
  {
   "cell_type": "code",
   "execution_count": 17,
   "id": "25b91d4b-266f-44f2-b69e-6ea5c75329ca",
   "metadata": {},
   "outputs": [],
   "source": [
    "# Define bounds for the quantum numbers that define which states to include in the basis\n",
    "QN_bounds = (\n",
    "    label = \"A\",\n",
    "    v_1 = 0,\n",
    "    v_2 = 1,\n",
    "    ℓ = (-1,1),\n",
    "    v_3 = 0,\n",
    "    Λ = (-1,1),\n",
    "    I = 1/2,\n",
    "    S = 1/2,\n",
    "    J = 1/2:11/2\n",
    "    # J = 1/2:5/2\n",
    "    )\n",
    "basis = order_basis_by_m(enumerate_states(HundsCaseA_LinearMolecule, QN_bounds))\n",
    ";"
   ]
  },
  {
   "cell_type": "code",
   "execution_count": null,
   "id": "14499427-f281-4a14-bedb-01c8105d8333",
   "metadata": {},
   "outputs": [],
   "source": [
    "CaOH_A010 = @time Hamiltonian(basis=basis, operator=H_operator, parameters=parameters)\n",
    "@time full_evaluate!(CaOH_A010)\n",
    "@time solve!(CaOH_A010)\n",
    ";"
   ]
  },
  {
   "cell_type": "code",
   "execution_count": null,
   "id": "d9349209-cdb4-4feb-b318-bb4243fd4745",
   "metadata": {},
   "outputs": [],
   "source": [
    "using Plots\n",
    "hline(energy.(CaOH_A010.states))\n",
    "# plot!(ylim=(16290, 16425))"
   ]
  },
  {
   "cell_type": "code",
   "execution_count": null,
   "id": "19b0a5a1",
   "metadata": {},
   "outputs": [],
   "source": [
    "@time save_to_file(CaOH_A010, \"CaOH_A010\", \"\")"
   ]
  },
  {
   "cell_type": "code",
   "execution_count": null,
   "id": "3eb8c040-9452-402b-b858-9b80ccf7c86e",
   "metadata": {},
   "outputs": [],
   "source": []
  }
 ],
 "metadata": {
  "kernelspec": {
   "display_name": "Julia 1.10.5",
   "language": "julia",
   "name": "julia-1.10"
  },
  "language_info": {
   "file_extension": ".jl",
   "mimetype": "application/julia",
   "name": "julia",
   "version": "1.10.5"
  }
 },
 "nbformat": 4,
 "nbformat_minor": 5
}

{
 "cells": [
  {
   "cell_type": "code",
   "execution_count": 1,
   "id": "07cc0129-30a2-4f4b-ae30-7770d231bde4",
   "metadata": {},
   "outputs": [],
   "source": [
    "using Revise"
   ]
  },
  {
   "cell_type": "code",
   "execution_count": 2,
   "id": "4ebeb064",
   "metadata": {
    "tags": []
   },
   "outputs": [],
   "source": [
    "using QuantumStates, UnitsToValue"
   ]
  },
  {
   "cell_type": "code",
   "execution_count": null,
   "id": "83847b16",
   "metadata": {
    "tags": []
   },
   "outputs": [],
   "source": [
    "H_operator = :(\n",
    "    TX * Identity +    \n",
    "    BX * Rotation + \n",
    "    DX * RotationDistortion + \n",
    "    γX * SpinRotation + \n",
    "    bFX * Hyperfine_IS + \n",
    "    cX * (Hyperfine_Dipolar/3) +\n",
    "    qX * ℓDoubling\n",
    ");"
   ]
  },
  {
   "cell_type": "code",
   "execution_count": null,
   "id": "ab3934ea",
   "metadata": {
    "tags": []
   },
   "outputs": [],
   "source": [
    "parameters = @params begin\n",
    "    TX = 353 * c * 1e2 # we'll just take the energy to be 3 × 3847 cm⁻¹\n",
    "    BX = 0.333458 * 2.99792458e8 * 1e2\n",
    "    DX = 0.3930e-6 * 2.99792458e8 * 1e2\n",
    "    γX = 0.001184 * 2.99792458e8 * 1e2\n",
    "    qX = -0.7181e-3 * 2.99792458e8 * 1e2\n",
    "    bFX = 2.602 * 1e6\n",
    "    cX = 2.053 * 1e6\n",
    "end;"
   ]
  },
  {
   "cell_type": "code",
   "execution_count": null,
   "id": "2802412d",
   "metadata": {
    "tags": []
   },
   "outputs": [],
   "source": [
    "QN_bounds = (\n",
    "    label = \"X\",\n",
    "    v_1 = 0,\n",
    "    v_2 = 1,\n",
    "    v_3 = 0,\n",
    "    S = 1/2, \n",
    "    I = 1/2, \n",
    "    Λ = 0,\n",
    "    ℓ = (-1,1),\n",
    "    K = (-1,1),\n",
    "    N = 1:5\n",
    ")\n",
    "basis = order_basis_by_m(enumerate_states(HundsCaseB_LinearMolecule, QN_bounds))\n",
    ";"
   ]
  },
  {
   "cell_type": "code",
   "execution_count": null,
   "id": "241c562c",
   "metadata": {
    "tags": []
   },
   "outputs": [],
   "source": [
    "CaOH_X010 = @time Hamiltonian(basis=basis, operator=H_operator, parameters=parameters)\n",
    "@time full_evaluate!(CaOH_X010)\n",
    "@time solve!(CaOH_X010)\n",
    ";"
   ]
  },
  {
   "cell_type": "code",
   "execution_count": null,
   "id": "19b0a5a1",
   "metadata": {
    "tags": []
   },
   "outputs": [],
   "source": [
    "@time save_to_file(CaOH_X010, \"CaOH_X010\", \"\")"
   ]
  },
  {
   "cell_type": "code",
   "execution_count": null,
   "id": "01984697-f04b-4252-b134-4c4b739d57f2",
   "metadata": {},
   "outputs": [],
   "source": []
  }
 ],
 "metadata": {
  "kernelspec": {
   "display_name": "Julia 1.10.5",
   "language": "julia",
   "name": "julia-1.10"
  },
  "language_info": {
   "file_extension": ".jl",
   "mimetype": "application/julia",
   "name": "julia",
   "version": "1.10.5"
  }
 },
 "nbformat": 4,
 "nbformat_minor": 5
}

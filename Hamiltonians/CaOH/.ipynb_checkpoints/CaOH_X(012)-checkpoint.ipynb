{
 "cells": [
  {
   "cell_type": "code",
   "execution_count": 3,
   "id": "4ebeb064",
   "metadata": {
    "tags": []
   },
   "outputs": [],
   "source": [
    "using QuantumStates, UnitsToValue"
   ]
  },
  {
   "cell_type": "code",
   "execution_count": 4,
   "id": "83847b16",
   "metadata": {
    "tags": []
   },
   "outputs": [],
   "source": [
    "H_operator = :(\n",
    "    TX * Identity +\n",
    "    BX * Rotation + \n",
    "    DX * RotationDistortion + \n",
    "    γX * SpinRotation + \n",
    "    bFX * Hyperfine_IS + \n",
    "    cX * (Hyperfine_Dipolar/3) +\n",
    "    qX * ℓDoubling + \n",
    "    s * basis_splitting\n",
    ");"
   ]
  },
  {
   "cell_type": "code",
   "execution_count": 5,
   "id": "ab3934ea",
   "metadata": {
    "tags": []
   },
   "outputs": [],
   "source": [
    "parameters = @params begin\n",
    "    TX = 2 * 3847 * c * 1e2 # we'll just take the energy to be 2 × 3847 cm⁻¹\n",
    "    BX = 0.333458 * c * 1e2\n",
    "    DX = 0.3930e-6 * c * 1e2\n",
    "    γX = 0.001184 * c * 1e2\n",
    "    qX = 0.7181e-3 * c * 1e2\n",
    "    bFX = 2.602 * 1e6\n",
    "    cX = 2.053 * 1e6\n",
    "    s = 1e-9 * c * 1e2\n",
    "end;"
   ]
  },
  {
   "cell_type": "code",
   "execution_count": 6,
   "id": "2802412d",
   "metadata": {
    "tags": []
   },
   "outputs": [],
   "source": [
    "QN_bounds = (\n",
    "    v_1 = 0,\n",
    "    v_2 = 1,\n",
    "    v_3 = 2,\n",
    "    S = 1/2, \n",
    "    I = 1/2, \n",
    "    Λ = 0,\n",
    "    ℓ = (-1,1),\n",
    "    K = (-1,1),\n",
    "    N = 1:5\n",
    ")\n",
    "basis = enumerate_states(HundsCaseB_LinearMolecule, QN_bounds)\n",
    ";"
   ]
  },
  {
   "cell_type": "code",
   "execution_count": 7,
   "id": "241c562c",
   "metadata": {
    "tags": []
   },
   "outputs": [
    {
     "name": "stdout",
     "output_type": "stream",
     "text": [
      "  1.674269 seconds (6.13 M allocations: 341.273 MiB, 5.78% gc time, 82.73% compilation time)\n",
      "  0.587251 seconds (4.25 M allocations: 193.522 MiB, 7.29% gc time, 57.75% compilation time)\n",
      "  1.437901 seconds (2.91 M allocations: 177.441 MiB, 4.69% gc time, 85.33% compilation time)\n"
     ]
    }
   ],
   "source": [
    "CaOH_X012 = @time Hamiltonian(basis=basis, operator=H_operator, parameters=parameters)\n",
    "@time full_evaluate!(CaOH_X012)\n",
    "@time solve!(CaOH_X012)\n",
    ";"
   ]
  },
  {
   "cell_type": "code",
   "execution_count": 8,
   "id": "19b0a5a1",
   "metadata": {
    "tags": []
   },
   "outputs": [
    {
     "name": "stdout",
     "output_type": "stream",
     "text": [
      "  0.174293 seconds (473.06 k allocations: 30.764 MiB, 92.58% compilation time)\n"
     ]
    }
   ],
   "source": [
    "@time save_to_file(CaOH_X012, \"CaOH_X012\", \"\")"
   ]
  },
  {
   "cell_type": "code",
   "execution_count": 9,
   "id": "0acdc662-71ce-4b63-9a72-ae4685376fad",
   "metadata": {},
   "outputs": [
    {
     "data": {
      "text/latex": [
       "$$0.706\\left|v_1=0, v_2=1, v_3=2, S=1/2, I=1/2, Λ=0, ℓ=-1, K=-1, N=1, J=1/2, F=1, M=0\\right\\rangle$$\n",
       "$$-0.031\\left|v_1=0, v_2=1, v_3=2, S=1/2, I=1/2, Λ=0, ℓ=-1, K=-1, N=1, J=3/2, F=1, M=0\\right\\rangle$$\n",
       "$$-0.706\\left|v_1=0, v_2=1, v_3=2, S=1/2, I=1/2, Λ=0, ℓ=1, K=1, N=1, J=1/2, F=1, M=0\\right\\rangle$$\n",
       "$$ + 0.031\\left|v_1=0, v_2=1, v_3=2, S=1/2, I=1/2, Λ=0, ℓ=1, K=1, N=1, J=3/2, F=1, M=0\\right\\rangle$$\n"
      ],
      "text/plain": [
       "State{HundsCaseB_LinearMolecule}(2.306802711192885e14, HundsCaseB_LinearMolecule[HundsCaseB_LinearMolecule(0.0, 0, 1, 2, 1/2, 1/2, 0, -1, -1, 1, 1/2, 0, 0, (K = -1, N = 1:∞, J = 0.5:1.0:1.5, F = 0.0:1.0:1.0, M = 0.0:1.0:0.0)), HundsCaseB_LinearMolecule(0.0, 0, 1, 2, 1/2, 1/2, 0, -1, -1, 1, 1/2, 1, -1, (K = -1, N = 1:∞, J = 0.5:1.0:1.5, F = 0.0:1.0:1.0, M = -1.0:1.0:1.0)), HundsCaseB_LinearMolecule(0.0, 0, 1, 2, 1/2, 1/2, 0, -1, -1, 1, 1/2, 1, 0, (K = -1, N = 1:∞, J = 0.5:1.0:1.5, F = 0.0:1.0:1.0, M = -1.0:1.0:1.0)), HundsCaseB_LinearMolecule(0.0, 0, 1, 2, 1/2, 1/2, 0, -1, -1, 1, 1/2, 1, 1, (K = -1, N = 1:∞, J = 0.5:1.0:1.5, F = 0.0:1.0:1.0, M = -1.0:1.0:1.0)), HundsCaseB_LinearMolecule(0.0, 0, 1, 2, 1/2, 1/2, 0, -1, -1, 1, 3/2, 1, -1, (K = -1, N = 1:∞, J = 0.5:1.0:1.5, F = 1.0:1.0:2.0, M = -1.0:1.0:1.0)), HundsCaseB_LinearMolecule(0.0, 0, 1, 2, 1/2, 1/2, 0, -1, -1, 1, 3/2, 1, 0, (K = -1, N = 1:∞, J = 0.5:1.0:1.5, F = 1.0:1.0:2.0, M = -1.0:1.0:1.0)), HundsCaseB_LinearMolecule(0.0, 0, 1, 2, 1/2, 1/2, 0, -1, -1, 1, 3/2, 1, 1, (K = -1, N = 1:∞, J = 0.5:1.0:1.5, F = 1.0:1.0:2.0, M = -1.0:1.0:1.0)), HundsCaseB_LinearMolecule(0.0, 0, 1, 2, 1/2, 1/2, 0, -1, -1, 1, 3/2, 2, -2, (K = -1, N = 1:∞, J = 0.5:1.0:1.5, F = 1.0:1.0:2.0, M = -2.0:1.0:2.0)), HundsCaseB_LinearMolecule(0.0, 0, 1, 2, 1/2, 1/2, 0, -1, -1, 1, 3/2, 2, -1, (K = -1, N = 1:∞, J = 0.5:1.0:1.5, F = 1.0:1.0:2.0, M = -2.0:1.0:2.0)), HundsCaseB_LinearMolecule(0.0, 0, 1, 2, 1/2, 1/2, 0, -1, -1, 1, 3/2, 2, 0, (K = -1, N = 1:∞, J = 0.5:1.0:1.5, F = 1.0:1.0:2.0, M = -2.0:1.0:2.0))  …  HundsCaseB_LinearMolecule(0.0, 0, 1, 2, 1/2, 1/2, 0, 1, 1, 5, 11/2, 6, -3, (K = 1, N = 1:∞, J = 4.5:1.0:5.5, F = 5.0:1.0:6.0, M = -6.0:1.0:6.0)), HundsCaseB_LinearMolecule(0.0, 0, 1, 2, 1/2, 1/2, 0, 1, 1, 5, 11/2, 6, -2, (K = 1, N = 1:∞, J = 4.5:1.0:5.5, F = 5.0:1.0:6.0, M = -6.0:1.0:6.0)), HundsCaseB_LinearMolecule(0.0, 0, 1, 2, 1/2, 1/2, 0, 1, 1, 5, 11/2, 6, -1, (K = 1, N = 1:∞, J = 4.5:1.0:5.5, F = 5.0:1.0:6.0, M = -6.0:1.0:6.0)), HundsCaseB_LinearMolecule(0.0, 0, 1, 2, 1/2, 1/2, 0, 1, 1, 5, 11/2, 6, 0, (K = 1, N = 1:∞, J = 4.5:1.0:5.5, F = 5.0:1.0:6.0, M = -6.0:1.0:6.0)), HundsCaseB_LinearMolecule(0.0, 0, 1, 2, 1/2, 1/2, 0, 1, 1, 5, 11/2, 6, 1, (K = 1, N = 1:∞, J = 4.5:1.0:5.5, F = 5.0:1.0:6.0, M = -6.0:1.0:6.0)), HundsCaseB_LinearMolecule(0.0, 0, 1, 2, 1/2, 1/2, 0, 1, 1, 5, 11/2, 6, 2, (K = 1, N = 1:∞, J = 4.5:1.0:5.5, F = 5.0:1.0:6.0, M = -6.0:1.0:6.0)), HundsCaseB_LinearMolecule(0.0, 0, 1, 2, 1/2, 1/2, 0, 1, 1, 5, 11/2, 6, 3, (K = 1, N = 1:∞, J = 4.5:1.0:5.5, F = 5.0:1.0:6.0, M = -6.0:1.0:6.0)), HundsCaseB_LinearMolecule(0.0, 0, 1, 2, 1/2, 1/2, 0, 1, 1, 5, 11/2, 6, 4, (K = 1, N = 1:∞, J = 4.5:1.0:5.5, F = 5.0:1.0:6.0, M = -6.0:1.0:6.0)), HundsCaseB_LinearMolecule(0.0, 0, 1, 2, 1/2, 1/2, 0, 1, 1, 5, 11/2, 6, 5, (K = 1, N = 1:∞, J = 4.5:1.0:5.5, F = 5.0:1.0:6.0, M = -6.0:1.0:6.0)), HundsCaseB_LinearMolecule(0.0, 0, 1, 2, 1/2, 1/2, 0, 1, 1, 5, 11/2, 6, 6, (K = 1, N = 1:∞, J = 4.5:1.0:5.5, F = 5.0:1.0:6.0, M = -6.0:1.0:6.0))], ComplexF64[-5.577879130056498e-28 + 0.0im, -2.7868782685039505e-12 + 0.0im, 0.7064135242852533 + 0.0im, -8.975578843456648e-9 + 0.0im, 9.935012250456402e-12 + 0.0im, -0.03130406711114797 + 0.0im, 3.59685712374817e-10 + 0.0im, 6.312103113760951e-12 + 0.0im, -1.2182607744678456e-17 + 0.0im, 2.858890298395911e-19 + 0.0im  …  -1.773683780328068e-59 + 0.0im, -2.0084400993215674e-58 + 0.0im, -3.2963140041384895e-61 + 0.0im, 1.9430982668080218e-59 + 0.0im, 1.5398804772052168e-59 + 0.0im, 1.0826283394747175e-58 + 0.0im, 6.822318434026985e-59 + 0.0im, -9.298607233055296e-59 + 0.0im, 2.969051351693813e-57 + 0.0im, 4.8188769146155297e-60 + 0.0im], 2)"
      ]
     },
     "execution_count": 9,
     "metadata": {},
     "output_type": "execute_result"
    }
   ],
   "source": [
    "CaOH_X012.states[2]"
   ]
  },
  {
   "cell_type": "code",
   "execution_count": null,
   "id": "6020efb6-4c06-468c-8137-ce184e0e4e05",
   "metadata": {},
   "outputs": [],
   "source": []
  }
 ],
 "metadata": {
  "kernelspec": {
   "display_name": "Julia (14 threads) 1.9.3",
   "language": "julia",
   "name": "julia-_14-threads_-1.9"
  },
  "language_info": {
   "file_extension": ".jl",
   "mimetype": "application/julia",
   "name": "julia",
   "version": "1.9.3"
  }
 },
 "nbformat": 4,
 "nbformat_minor": 5
}

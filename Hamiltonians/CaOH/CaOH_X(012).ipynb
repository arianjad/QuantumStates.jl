{
 "cells": [
  {
   "cell_type": "code",
   "execution_count": 3,
   "id": "4ebeb064",
   "metadata": {
    "tags": []
   },
   "outputs": [],
   "source": [
    "using QuantumStates, UnitsToValue"
   ]
  },
  {
   "cell_type": "code",
   "execution_count": 4,
   "id": "83847b16",
   "metadata": {
    "tags": []
   },
   "outputs": [],
   "source": [
    "H_operator = :(\n",
    "    TX * Identity +\n",
    "    BX * Rotation + \n",
    "    DX * RotationDistortion + \n",
    "    γX * SpinRotation + \n",
    "    bFX * Hyperfine_IS + \n",
    "    cX * (Hyperfine_Dipolar/3) +\n",
    "    qX * ℓDoubling + \n",
    "    s * basis_splitting\n",
    ");"
   ]
  },
  {
   "cell_type": "code",
   "execution_count": 5,
   "id": "ab3934ea",
   "metadata": {
    "tags": []
   },
   "outputs": [],
   "source": [
    "parameters = @params begin\n",
    "    TX = 2 * 3847 * c * 1e2 # we'll just take the energy to be 2 × 3847 cm⁻¹\n",
    "    BX = 0.333458 * c * 1e2\n",
    "    DX = 0.3930e-6 * c * 1e2\n",
    "    γX = 0.001184 * c * 1e2\n",
    "    qX = 0.7181e-3 * c * 1e2\n",
    "    bFX = 2.602 * 1e6\n",
    "    cX = 2.053 * 1e6\n",
    "    s = 1e-9 * c * 1e2\n",
    "end;"
   ]
  },
  {
   "cell_type": "code",
   "execution_count": 6,
   "id": "2802412d",
   "metadata": {
    "tags": []
   },
   "outputs": [],
   "source": [
    "QN_bounds = (\n",
    "    v_1 = 0,\n",
    "    v_2 = 1,\n",
    "    v_3 = 2,\n",
    "    S = 1/2, \n",
    "    I = 1/2, \n",
    "    Λ = 0,\n",
    "    ℓ = (-1,1),\n",
    "    K = (-1,1),\n",
    "    N = 1:5\n",
    ")\n",
    "basis = enumerate_states(HundsCaseB_LinearMolecule, QN_bounds)\n",
    ";"
   ]
  },
  {
   "cell_type": "code",
   "execution_count": 7,
   "id": "241c562c",
   "metadata": {
    "tags": []
   },
   "outputs": [
    {
     "name": "stdout",
     "output_type": "stream",
     "text": [
      "  1.674269 seconds (6.13 M allocations: 341.273 MiB, 5.78% gc time, 82.73% compilation time)\n",
      "  0.587251 seconds (4.25 M allocations: 193.522 MiB, 7.29% gc time, 57.75% compilation time)\n",
      "  1.437901 seconds (2.91 M allocations: 177.441 MiB, 4.69% gc time, 85.33% compilation time)\n"
     ]
    }
   ],
   "source": [
    "CaOH_X012 = @time Hamiltonian(basis=basis, operator=H_operator, parameters=parameters)\n",
    "@time full_evaluate!(CaOH_X012)\n",
    "@time solve!(CaOH_X012)\n",
    ";"
   ]
  },
  {
   "cell_type": "code",
   "execution_count": 8,
   "id": "19b0a5a1",
   "metadata": {
    "tags": []
   },
   "outputs": [
    {
     "name": "stdout",
     "output_type": "stream",
     "text": [
      "  0.174293 seconds (473.06 k allocations: 30.764 MiB, 92.58% compilation time)\n"
     ]
    }
   ],
   "source": [
    "@time save_to_file(CaOH_X012, \"CaOH_X012\", \"\")"
   ]
  },
  {
   "cell_type": "code",
   "execution_count": 10,
   "id": "0acdc662-71ce-4b63-9a72-ae4685376fad",
   "metadata": {},
   "outputs": [
    {
     "data": {
      "text/latex": [
       "$$-0.706\\left|v_1=0, v_2=1, v_3=2, S=1/2, I=1/2, Λ=0, ℓ=-1, K=-1, N=1, J=1/2, F=1, M=-1\\right\\rangle$$\n",
       "$$ + 0.031\\left|v_1=0, v_2=1, v_3=2, S=1/2, I=1/2, Λ=0, ℓ=-1, K=-1, N=1, J=3/2, F=1, M=-1\\right\\rangle$$\n",
       "$$ + 0.706\\left|v_1=0, v_2=1, v_3=2, S=1/2, I=1/2, Λ=0, ℓ=1, K=1, N=1, J=1/2, F=1, M=-1\\right\\rangle$$\n",
       "$$-0.031\\left|v_1=0, v_2=1, v_3=2, S=1/2, I=1/2, Λ=0, ℓ=1, K=1, N=1, J=3/2, F=1, M=-1\\right\\rangle$$\n"
      ],
      "text/plain": [
       "State{HundsCaseB_LinearMolecule}(2.306802711192585e14, HundsCaseB_LinearMolecule[HundsCaseB_LinearMolecule(0.0, 0, 1, 2, 1/2, 1/2, 0, -1, -1, 1, 1/2, 0, 0, (K = -1, N = 1:∞, J = 0.5:1.0:1.5, F = 0.0:1.0:1.0, M = 0.0:1.0:0.0)), HundsCaseB_LinearMolecule(0.0, 0, 1, 2, 1/2, 1/2, 0, -1, -1, 1, 1/2, 1, -1, (K = -1, N = 1:∞, J = 0.5:1.0:1.5, F = 0.0:1.0:1.0, M = -1.0:1.0:1.0)), HundsCaseB_LinearMolecule(0.0, 0, 1, 2, 1/2, 1/2, 0, -1, -1, 1, 1/2, 1, 0, (K = -1, N = 1:∞, J = 0.5:1.0:1.5, F = 0.0:1.0:1.0, M = -1.0:1.0:1.0)), HundsCaseB_LinearMolecule(0.0, 0, 1, 2, 1/2, 1/2, 0, -1, -1, 1, 1/2, 1, 1, (K = -1, N = 1:∞, J = 0.5:1.0:1.5, F = 0.0:1.0:1.0, M = -1.0:1.0:1.0)), HundsCaseB_LinearMolecule(0.0, 0, 1, 2, 1/2, 1/2, 0, -1, -1, 1, 3/2, 1, -1, (K = -1, N = 1:∞, J = 0.5:1.0:1.5, F = 1.0:1.0:2.0, M = -1.0:1.0:1.0)), HundsCaseB_LinearMolecule(0.0, 0, 1, 2, 1/2, 1/2, 0, -1, -1, 1, 3/2, 1, 0, (K = -1, N = 1:∞, J = 0.5:1.0:1.5, F = 1.0:1.0:2.0, M = -1.0:1.0:1.0)), HundsCaseB_LinearMolecule(0.0, 0, 1, 2, 1/2, 1/2, 0, -1, -1, 1, 3/2, 1, 1, (K = -1, N = 1:∞, J = 0.5:1.0:1.5, F = 1.0:1.0:2.0, M = -1.0:1.0:1.0)), HundsCaseB_LinearMolecule(0.0, 0, 1, 2, 1/2, 1/2, 0, -1, -1, 1, 3/2, 2, -2, (K = -1, N = 1:∞, J = 0.5:1.0:1.5, F = 1.0:1.0:2.0, M = -2.0:1.0:2.0)), HundsCaseB_LinearMolecule(0.0, 0, 1, 2, 1/2, 1/2, 0, -1, -1, 1, 3/2, 2, -1, (K = -1, N = 1:∞, J = 0.5:1.0:1.5, F = 1.0:1.0:2.0, M = -2.0:1.0:2.0)), HundsCaseB_LinearMolecule(0.0, 0, 1, 2, 1/2, 1/2, 0, -1, -1, 1, 3/2, 2, 0, (K = -1, N = 1:∞, J = 0.5:1.0:1.5, F = 1.0:1.0:2.0, M = -2.0:1.0:2.0))  …  HundsCaseB_LinearMolecule(0.0, 0, 1, 2, 1/2, 1/2, 0, 1, 1, 5, 11/2, 6, -3, (K = 1, N = 1:∞, J = 4.5:1.0:5.5, F = 5.0:1.0:6.0, M = -6.0:1.0:6.0)), HundsCaseB_LinearMolecule(0.0, 0, 1, 2, 1/2, 1/2, 0, 1, 1, 5, 11/2, 6, -2, (K = 1, N = 1:∞, J = 4.5:1.0:5.5, F = 5.0:1.0:6.0, M = -6.0:1.0:6.0)), HundsCaseB_LinearMolecule(0.0, 0, 1, 2, 1/2, 1/2, 0, 1, 1, 5, 11/2, 6, -1, (K = 1, N = 1:∞, J = 4.5:1.0:5.5, F = 5.0:1.0:6.0, M = -6.0:1.0:6.0)), HundsCaseB_LinearMolecule(0.0, 0, 1, 2, 1/2, 1/2, 0, 1, 1, 5, 11/2, 6, 0, (K = 1, N = 1:∞, J = 4.5:1.0:5.5, F = 5.0:1.0:6.0, M = -6.0:1.0:6.0)), HundsCaseB_LinearMolecule(0.0, 0, 1, 2, 1/2, 1/2, 0, 1, 1, 5, 11/2, 6, 1, (K = 1, N = 1:∞, J = 4.5:1.0:5.5, F = 5.0:1.0:6.0, M = -6.0:1.0:6.0)), HundsCaseB_LinearMolecule(0.0, 0, 1, 2, 1/2, 1/2, 0, 1, 1, 5, 11/2, 6, 2, (K = 1, N = 1:∞, J = 4.5:1.0:5.5, F = 5.0:1.0:6.0, M = -6.0:1.0:6.0)), HundsCaseB_LinearMolecule(0.0, 0, 1, 2, 1/2, 1/2, 0, 1, 1, 5, 11/2, 6, 3, (K = 1, N = 1:∞, J = 4.5:1.0:5.5, F = 5.0:1.0:6.0, M = -6.0:1.0:6.0)), HundsCaseB_LinearMolecule(0.0, 0, 1, 2, 1/2, 1/2, 0, 1, 1, 5, 11/2, 6, 4, (K = 1, N = 1:∞, J = 4.5:1.0:5.5, F = 5.0:1.0:6.0, M = -6.0:1.0:6.0)), HundsCaseB_LinearMolecule(0.0, 0, 1, 2, 1/2, 1/2, 0, 1, 1, 5, 11/2, 6, 5, (K = 1, N = 1:∞, J = 4.5:1.0:5.5, F = 5.0:1.0:6.0, M = -6.0:1.0:6.0)), HundsCaseB_LinearMolecule(0.0, 0, 1, 2, 1/2, 1/2, 0, 1, 1, 5, 11/2, 6, 6, (K = 1, N = 1:∞, J = 4.5:1.0:5.5, F = 5.0:1.0:6.0, M = -6.0:1.0:6.0))], ComplexF64[-1.1894241659802156e-15 - 0.0im, -0.7064135154393074 - 0.0im, -2.9194105041375606e-6 - 0.0im, -4.252842431792836e-6 - 0.0im, 0.03130406736622092 - 0.0im, 1.2871010417492596e-7 - 0.0im, 1.877975319815555e-7 - 0.0im, -2.989444587413685e-10 - 0.0im, 1.0733988956014031e-11 - 0.0im, -8.718623481406129e-11 - 0.0im  …  5.0952609728549286e-51 - 0.0im, 5.734555353600659e-50 - 0.0im, 7.831625849472483e-53 - 0.0im, -5.562552619496042e-51 - 0.0im, -4.3825591022603785e-51 - 0.0im, -3.091498017166542e-50 - 0.0im, -1.9485424262938733e-50 - 0.0im, 2.6558145211234595e-50 - 0.0im, -8.486305708009671e-49 - 0.0im, -1.380963353577498e-51 - 0.0im], 1)"
      ]
     },
     "execution_count": 10,
     "metadata": {},
     "output_type": "execute_result"
    }
   ],
   "source": [
    "CaOH_X012.states[1]"
   ]
  },
  {
   "cell_type": "code",
   "execution_count": null,
   "id": "6020efb6-4c06-468c-8137-ce184e0e4e05",
   "metadata": {},
   "outputs": [],
   "source": []
  }
 ],
 "metadata": {
  "kernelspec": {
   "display_name": "Julia (14 threads) 1.9.3",
   "language": "julia",
   "name": "julia-_14-threads_-1.9"
  },
  "language_info": {
   "file_extension": ".jl",
   "mimetype": "application/julia",
   "name": "julia",
   "version": "1.9.3"
  }
 },
 "nbformat": 4,
 "nbformat_minor": 5
}
